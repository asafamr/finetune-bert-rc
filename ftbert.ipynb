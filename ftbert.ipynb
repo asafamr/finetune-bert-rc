{
 "cells": [
  {
   "cell_type": "code",
   "execution_count": 1,
   "metadata": {},
   "outputs": [],
   "source": [
    "from simplifying_wrapper import train_roberta,eval_roberta,show_results_jup\n",
    "import logging,sys\n"
   ]
  },
  {
   "cell_type": "code",
   "execution_count": 2,
   "metadata": {
    "scrolled": false
   },
   "outputs": [
    {
     "name": "stdout",
     "output_type": "stream",
     "text": [
      "Training(this should take a couple of minutes)...\n",
      ". . . . . . . . . . . . . . . . . . . . . . . . . . . . . . . . . . . . . . . . . . . . . . . . . . . . . . . . . . . . . . . . . . . . . . . . . . . . . . . . . . . . . . . . . . . . . . Done. Total time: 473 seconds\n"
     ]
    },
    {
     "data": {
      "text/plain": [
       "0"
      ]
     },
     "execution_count": 2,
     "metadata": {},
     "output_type": "execute_result"
    }
   ],
   "source": [
    "train_roberta('my_model',\n",
    "# positive train samples \n",
    "                  '''\n",
    "[o John] founded [s Unilever].\n",
    "[o Dan] established [s Microsoft Corporation ] .\n",
    "[o Laura], together with her co-founding friend Jill started the [s company] .\n",
    "[o Tammy] is [s Osem] 's co-founder.\n",
    "[o Bobby McGee] started [s Virgin records] in his garage.\n",
    "[o Sementha] is the creator of [s Whatever inc.] and its CEO.\n",
    "                    ''',\n",
    "# negative train samples \n",
    "                  '''\n",
    "[o John] drives trucks for [s Unilever].\n",
    "[o Dan] established Microsoft Corporation  but only after he graduated from [s MIT].\n",
    "[o Laura] has never worked for [s Osem].\n",
    "[o Tammy] is [s Osem] 's  best customer.\n",
    "[o Bobby McGee] keeps his collection, which was bought from [s Virgin records], in his garage.\n",
    "[o Sementha] is the creator of the logo of [s Whatever inc.]\n",
    "\n",
    "[o John] [s founded]  Unilever.\n",
    " Dan [o established] [s Microsoft Corporation ] .\n",
    "[o Laura], together with her co-founding [s friend ] Jill started the  company .\n",
    "Tammy [o is ] [s Osem] 's co-founder.\n",
    "Bobby McGee started [s Virgin records] in his [o garage.]\n",
    "Sementha is the creator [o of] [s Whatever inc.] and its CEO.\n",
    "                  ''',\n",
    "# positive dev samples - these and the negative dev will be used to avoid overfitting\n",
    "              '''\n",
    "[o Bobby] is [s Disney]'s co-founder but never worked for Toyota .\n",
    "[o I] created a company and named it [s AI2D2] .\n",
    "[o Sammy] established [s Burekas] in the early 2000's.\n",
    "                  ''',\n",
    "              \n",
    "# negative dev samples\n",
    "'''\n",
    "[o Bobby] is a co-founder of Disney but never worked for [s  Toyota] .\n",
    "[o I] knew a company named [s AI2D2] .\n",
    " Sammy [o established] [s Burekas] in the early 2000's.\n",
    "[s Sammy] established [o Burekas] in the early 2000's.\n",
    "\n",
    "''', gpu=0, verbose=False\n",
    "                  )"
   ]
  },
  {
   "cell_type": "code",
   "execution_count": 3,
   "metadata": {
    "scrolled": false
   },
   "outputs": [
    {
     "name": "stdout",
     "output_type": "stream",
     "text": [
      "Evaluating...\n",
      ". . . \n",
      "Done.\n",
      "Precision      : 66.7%\n",
      "Accuracy       : 66.7%\n",
      "Recall         : 66.7%\n",
      "F1             : 66.7%\n"
     ]
    },
    {
     "data": {
      "application/vnd.jupyter.widget-view+json": {
       "model_id": "24813f1e95f94955b9c302121d272676",
       "version_major": 2,
       "version_minor": 0
      },
      "text/plain": [
       "QgridWidget(grid_options={'fullWidthRows': True, 'syncColumnCellResize': True, 'forceFitColumns': True, 'defau…"
      ]
     },
     "metadata": {},
     "output_type": "display_data"
    }
   ],
   "source": [
    "# The model my_model was trained above, now we can quickly re-run it and evaluate test sentences\n",
    "\n",
    "returnval, results=eval_roberta('my_model','''\n",
    "[o James] established and headed [s Kayak ] .\n",
    "[o Bob billy Joe] is a co-founder of the [s company] .\n",
    "\n",
    "Five years later [s Waze], that was established by [o Mark] , was disbanded.\n",
    "\n",
    "\n",
    "\n",
    "''', '''\n",
    "[o Bob billy Joe] is a chairman of the [s company] .\n",
    "[o Dan] established Microsoft Corporation but not [s Mazda] .\n",
    "[o Laura], that I found funny,worked at the [s company] .\n",
    "\n",
    "''',verbose=False)\n",
    "show_results_jup(results)"
   ]
  },
  {
   "cell_type": "code",
   "execution_count": null,
   "metadata": {},
   "outputs": [],
   "source": []
  }
 ],
 "metadata": {
  "kernelspec": {
   "display_name": "Torch 1.2(py36)",
   "language": "python",
   "name": "py36"
  },
  "language_info": {
   "codemirror_mode": {
    "name": "ipython",
    "version": 3
   },
   "file_extension": ".py",
   "mimetype": "text/x-python",
   "name": "python",
   "nbconvert_exporter": "python",
   "pygments_lexer": "ipython3",
   "version": "3.6.9"
  }
 },
 "nbformat": 4,
 "nbformat_minor": 2
}
